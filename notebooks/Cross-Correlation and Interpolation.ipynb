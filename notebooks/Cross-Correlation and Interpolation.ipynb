{
 "cells": [
  {
   "cell_type": "code",
   "execution_count": 1,
   "metadata": {
    "collapsed": false
   },
   "outputs": [],
   "source": [
    "from __future__ import division\n",
    "import numpy as np\n",
    "import statsmodels.api as sm\n",
    "import matplotlib.pyplot as plt\n",
    "import pandas as pd\n",
    "import nibabel as nib\n",
    "from scipy import signal\n",
    "from __future__ import print_function\n",
    "from ipywidgets import interact, interactive, fixed\n",
    "import ipywidgets as widgets\n",
    "from nilearn import image, plotting, masking\n",
    "from nilearn.input_data import NiftiMasker\n",
    "%matplotlib inline\n",
    "plt.style.use('ggplot')"
   ]
  },
  {
   "cell_type": "markdown",
   "metadata": {},
   "source": [
    "**Description of lag calculation from Siegel et al. 2015 (JCBFM)**\n",
    "\n",
    "$$C_i(\\tau) = (1/n_\\tau)\\sum \\left[ \\frac{g(t) \\cdot s_i(t + \\tau)}{\\sigma_{s_i}\\sigma_g}  \\right]$$\n",
    "\n",
    "* ***g*** is the gray matter signal\n",
    "* ***s<sub>i</sub>*** is the signal in voxel ***i***\n",
    "* ***σ<sub>s<sub>i</sub></sub>*** and  ***σ<sub>g</sub>*** are the standard deviations of the two signals\n",
    "\n",
    "The summation runs over frames indexed by ***t***, and ***n<sub>τ</sub>***  is the number of frames included after a shift of ***τ***.\n",
    "\n",
    "To determine the shift that maximizes the cross-correlation function at a temporal resolution finer than 1 TR, the lag (***τ***) corresponding to the maximum of ***C<sub>i</sub> (τ)*** is identified. ***C<sub>i</sub> (τ)*** at this lag, as well as one step forward and backward, is fit with a parabolic function and the peak value, ***C<sub>i</sub>  (τ<sup>m</sup>)*** and corresponding temporal shift ***(τ<sup>m</sup>)*** is computed. Positive and negative values of  ***τ<sup>m</sup>*** correspond, respectively, to a lag or lead relative to the mean gray matter signal."
   ]
  },
  {
   "cell_type": "code",
   "execution_count": 2,
   "metadata": {
    "collapsed": false
   },
   "outputs": [],
   "source": [
    "def get_numerator(signal_a, signal_b, lag):\n",
    "    \"\"\"\n",
    "    Calculates the numerator of the cross-correlation equation.\n",
    "    \n",
    "    Parameters\n",
    "    ----------\n",
    "    signal_a : array_like (1D)\n",
    "        Reference signal.\n",
    "    signal_b : array_like (1D)\n",
    "        Test signal. Must be the same length as signal_a.\n",
    "    lag : int\n",
    "        Lag by which signal_b will be shifted relative to signal_a.\n",
    "        \n",
    "    Returns\n",
    "    -------\n",
    "    array_like (1D)\n",
    "        Element-wise product of matching time points in the lagged signals.\n",
    "    \"\"\" \n",
    "    if lag == 0:\n",
    "        numerator = np.multiply(signal_a, signal_b)\n",
    "    # If lag is positive, shift signal_b forwards relative to signal_a.\n",
    "    if lag > 0:\n",
    "        numerator = np.multiply(signal_a[lag:], signal_b[0:-lag])\n",
    "    # If lag is negative, shift signal_b backward relative to signal_a.\n",
    "    if lag < 0:\n",
    "        numerator = np.multiply(signal_b[-lag:], signal_a[0:lag])\n",
    "    return numerator"
   ]
  },
  {
   "cell_type": "code",
   "execution_count": 3,
   "metadata": {
    "collapsed": true
   },
   "outputs": [],
   "source": [
    "def get_denominator(signal_a, signal_b):\n",
    "    \"\"\"\n",
    "    Calculates the denominator of the cross-correlation equation.\n",
    "    \n",
    "    Parameters\n",
    "    ----------\n",
    "    signal_a : array_like (1D)\n",
    "        Reference signal.\n",
    "    signal_b : array_like (1D)\n",
    "        Test signal. Must be the same length as signal_a.\n",
    "        \n",
    "    Returns\n",
    "    -------\n",
    "    float\n",
    "        Product of the standard deviations of the input signals.\n",
    "    \"\"\" \n",
    "    denom = np.std(signal_a) * np.std(signal_b)\n",
    "    if denom == 0:\n",
    "        print(\"Denominator is zero!\")\n",
    "    return denom"
   ]
  },
  {
   "cell_type": "code",
   "execution_count": 4,
   "metadata": {
    "collapsed": true
   },
   "outputs": [],
   "source": [
    "def calc_xcorr(signal_a, signal_b, lag):\n",
    "    \"\"\"\n",
    "    Calculate the cross-correlation of two signals at a given lag.\n",
    "    \n",
    "    Parameters\n",
    "    ----------\n",
    "    signal_a : array_like (1D)\n",
    "        Reference signal.\n",
    "    signal_b : array_like (1D)\n",
    "        Test signal. Must be the same length as signal_a.\n",
    "    lag : int\n",
    "        Lag by which signal_b will be shifted relative to signal_a.\n",
    "        \n",
    "    Returns\n",
    "    -------\n",
    "    float\n",
    "        Normalized cross-correlation.\n",
    "    \"\"\" \n",
    "    \n",
    "    xcorr = np.true_divide(1., len(signal_a)-np.absolute(lag)) * np.sum(np.true_divide(get_numerator(signal_a, signal_b, lag),\n",
    "              get_denominator(signal_a, signal_b)))\n",
    "    return xcorr"
   ]
  },
  {
   "cell_type": "code",
   "execution_count": 5,
   "metadata": {
    "collapsed": true
   },
   "outputs": [],
   "source": [
    "def sliding_xcorr(signal_a, signal_b, lags):\n",
    "    \"\"\"\n",
    "    Calculate the cross-correlation of two signals over a range of lags.\n",
    "    \n",
    "    Parameters\n",
    "    ----------\n",
    "    signal_a : array_like (1D)\n",
    "        Reference signal.\n",
    "    signal_b : array_like (1D)\n",
    "        Test signal. Must be the same length as signal_a.\n",
    "    lags : array_like (1D)\n",
    "        Lags by which signal_b will be shifted relative to signal_a.\n",
    "        \n",
    "    Returns\n",
    "    -------\n",
    "    array_like (1D)\n",
    "        Normalized cross-correlation at each lag.\n",
    "    \"\"\" \n",
    "    xcorr_vals = []\n",
    "    for lag in lags:\n",
    "        xcorr = calc_xcorr(signal_a, signal_b, lag)\n",
    "        xcorr_vals.append(xcorr)\n",
    "    return np.array(xcorr_vals)"
   ]
  },
  {
   "cell_type": "code",
   "execution_count": 6,
   "metadata": {
    "collapsed": true
   },
   "outputs": [],
   "source": [
    "# Adapted from https://gist.github.com/endolith/255291\n",
    "def parabolic(sample_array, peak_index):\n",
    "    \"\"\"\n",
    "    Quadratic interpolation for estimating the true position of an\n",
    "    inter-sample local maximum when nearby samples are known.\n",
    "   \n",
    "    Parameters\n",
    "    ----------\n",
    "    sample_array : array_like (1D)\n",
    "        Array of samples.\n",
    "    peak_index : int\n",
    "        Index for the local maximum in sample_array for which to estimate the inter-sample maximum.\n",
    "   \n",
    "    Returns\n",
    "    -------\n",
    "    tuple\n",
    "        The (x,y) coordinates of the vertex of a parabola through peak_index and its two neighbors.\n",
    "    \"\"\"\n",
    "    vertex_x = 1/2. * (sample_array[peak_index-1] - sample_array[peak_index+1]) / (sample_array[peak_index-1] - 2 * sample_array[peak_index] + sample_array[peak_index+1]) + peak_index\n",
    "    vertex_y = sample_array[peak_index] - 1/4. * (sample_array[peak_index-1] - sample_array[peak_index+1]) * (vertex_x - peak_index)\n",
    "    return (vertex_x, vertex_y)"
   ]
  },
  {
   "cell_type": "code",
   "execution_count": 7,
   "metadata": {
    "collapsed": true
   },
   "outputs": [],
   "source": [
    "def report_xcorr(xcorr_array, lags, interp=False):\n",
    "    \"\"\"\n",
    "    Report the maximum value from a cross-correlation array.\n",
    "    \n",
    "    \"\"\"\n",
    "    lag_shift = np.sum(np.array(lags) > 0)\n",
    "    if interp == True:\n",
    "        max_xcorr = parabolic(xcorr_array, np.argmax(xcorr_array))[0] - lag_shift\n",
    "    else:\n",
    "        max_xcorr = np.argmax(xcorr_array) - lag_shift\n",
    "    print(\"Maximum cross-correlation exists at a lag of {}.\".format(max_xcorr))"
   ]
  },
  {
   "cell_type": "markdown",
   "metadata": {},
   "source": [
    "### Test on dummy data\n",
    "\n",
    "Two identical aperiodic time-series, with a lag difference of 3 frames."
   ]
  },
  {
   "cell_type": "code",
   "execution_count": null,
   "metadata": {
    "collapsed": false
   },
   "outputs": [],
   "source": [
    "simple_a = [0, 0, 0, 0, 0, 2, 2, 1, 2, 3, 2, 0, -1, -2, -2, 0, 0, 0, 0]\n",
    "simple_b = [0, 0, 2, 2, 1, 2, 3, 2, 0, -1, -2, -2, 0, 0, 0, 0, 0, 0, 0]\n",
    "simple_lags = range(-4, 5)"
   ]
  },
  {
   "cell_type": "code",
   "execution_count": null,
   "metadata": {
    "collapsed": false
   },
   "outputs": [],
   "source": [
    "f, axes = plt.subplots(1, 2, figsize=(12, 4))\n",
    "axes[0].plot(simple_a)\n",
    "axes[0].plot(simple_b)\n",
    "axes[1].plot(simple_lags, sliding_xcorr(simple_a, simple_b, simple_lags))\n",
    "plt.tight_layout()"
   ]
  },
  {
   "cell_type": "markdown",
   "metadata": {},
   "source": [
    "### Test on more realistic simulated data.\n",
    "\n",
    "Time series from a random ARMA model, shifted by 7 frames."
   ]
  },
  {
   "cell_type": "code",
   "execution_count": null,
   "metadata": {
    "collapsed": false
   },
   "outputs": [],
   "source": [
    "np.random.seed(12345)\n",
    "arparams = np.array([.75, -.25])\n",
    "maparams = np.array([.65, .35])\n",
    "ar = np.r_[1, -arparams] # add zero-lag and negate\n",
    "ma = np.r_[1, maparams] # add zero-lag\n",
    "y = sm.tsa.arma_generate_sample(ar, ma, 143)\n",
    "z = sm.tsa.arma_generate_sample(ar, ma, 143)\n",
    "arma_a = np.append(z[-7:], y)\n",
    "arma_b = np.append(y, z[0:7])"
   ]
  },
  {
   "cell_type": "code",
   "execution_count": null,
   "metadata": {
    "collapsed": false,
    "scrolled": false
   },
   "outputs": [],
   "source": [
    "arma_lags = range(-10, 11)\n",
    "arma_xcorr =  sliding_xcorr(arma_a, arma_b, arma_lags)\n",
    "\n",
    "f, axes = plt.subplots(1, 2, figsize=(12, 4))\n",
    "axes[0].plot(arma_a)\n",
    "axes[0].set_xlim(0,len(arma_a))\n",
    "axes[0].plot(arma_b)\n",
    "axes[1].plot(arma_lags, arma_xcorr)\n",
    "plt.tight_layout()\n",
    "report_xcorr(arma_xcorr, arma_lags)"
   ]
  },
  {
   "cell_type": "markdown",
   "metadata": {},
   "source": [
    "### Test with aliased sampling and parabolic interpolation.\n",
    "\n",
    "Using the same data as above, but with an aliased sampling window with a width of 2 frames."
   ]
  },
  {
   "cell_type": "code",
   "execution_count": null,
   "metadata": {
    "collapsed": false
   },
   "outputs": [],
   "source": [
    "arma_a_aliased = np.mean(np.reshape(arma_a, (-1, 3)), axis=1)\n",
    "arma_b_aliased = np.mean(np.reshape(arma_b, (-1, 3)), axis=1)"
   ]
  },
  {
   "cell_type": "code",
   "execution_count": null,
   "metadata": {
    "collapsed": false,
    "scrolled": true
   },
   "outputs": [],
   "source": [
    "arma_lags_aliased = range(-4, 5)\n",
    "arma_aliased_xcorr =  sliding_xcorr(arma_a_aliased, arma_b_aliased, arma_lags_aliased)\n",
    "\n",
    "f, axes = plt.subplots(1, 2, figsize=(12, 4))\n",
    "axes[0].plot(arma_a_aliased)\n",
    "axes[0].set_xlim(0,len(arma_a_aliased))\n",
    "axes[0].plot(arma_b_aliased)\n",
    "axes[1].plot(arma_lags_aliased, arma_aliased_xcorr)\n",
    "plt.tight_layout()\n",
    "report_xcorr(arma_aliased_xcorr, arma_lags_aliased, interp=True)"
   ]
  },
  {
   "cell_type": "markdown",
   "metadata": {
    "collapsed": true
   },
   "source": [
    "## Test on Real Data"
   ]
  },
  {
   "cell_type": "code",
   "execution_count": 8,
   "metadata": {
    "collapsed": false
   },
   "outputs": [],
   "source": [
    "# Set input data paths.\n",
    "rest1_epi = '/home/despo/dlurie/Projects/megarest_lag/data/sub104/Aifo/sub104_Aifo_rest_1_minimal.nii.gz'\n",
    "#gm_seg = '/home/despo/dlurie/Projects/megarest_lag/data/sub104/sub104_gm_seg.nii'\n",
    "gm_seg = '/home/despo/arielle/megarest_sc/data/anat/104_gm.nii'"
   ]
  },
  {
   "cell_type": "code",
   "execution_count": 9,
   "metadata": {
    "collapsed": false
   },
   "outputs": [],
   "source": [
    "# Load the EPI image.\n",
    "rest1_epi_img = nib.load(rest1_epi)"
   ]
  },
  {
   "cell_type": "code",
   "execution_count": 10,
   "metadata": {
    "collapsed": false
   },
   "outputs": [],
   "source": [
    "# Load the gray matter segmentation.\n",
    "gm_seg_img = nib.load(gm_seg)\n",
    "# Resample the segmentation to match the EPI.\n",
    "gm_seg_resampled_img = image.resample_to_img(gm_seg_img, rest1_epi_img)\n",
    "# Create a 30% mask from the resampled segmentation.\n",
    "gm_mask_resampled_img = image.math_img('(img1 > .30).astype(bool)', img1=gm_seg_resampled_img)"
   ]
  },
  {
   "cell_type": "code",
   "execution_count": 11,
   "metadata": {
    "collapsed": false
   },
   "outputs": [],
   "source": [
    "mean_epi_img = image.mean_img(rest1_epi_img)"
   ]
  },
  {
   "cell_type": "code",
   "execution_count": 12,
   "metadata": {
    "collapsed": false,
    "scrolled": true
   },
   "outputs": [
    {
     "data": {
      "text/plain": [
       "<nilearn.plotting.displays.ZSlicer at 0x7f29d98be6d0>"
      ]
     },
     "execution_count": 12,
     "metadata": {},
     "output_type": "execute_result"
    },
    {
     "data": {
      "image/png": "[encoded data removed]",
      "text/plain": [
       "<matplotlib.figure.Figure at 0x7f29d7727750>"
      ]
     },
     "metadata": {},
     "output_type": "display_data"
    }
   ],
   "source": [
    "plotting.plot_epi(mean_epi_img, display_mode='z', cut_coords=6)"
   ]
  },
  {
   "cell_type": "code",
   "execution_count": 13,
   "metadata": {
    "collapsed": false
   },
   "outputs": [
    {
     "data": {
      "text/plain": [
       "<nilearn.plotting.displays.ZSlicer at 0x7f29d0bfd910>"
      ]
     },
     "execution_count": 13,
     "metadata": {},
     "output_type": "execute_result"
    },
    {
     "data": {
      "image/png": "[encoded data removed]",
      "text/plain": [
       "<matplotlib.figure.Figure at 0x7f29d0e72f10>"
      ]
     },
     "metadata": {},
     "output_type": "display_data"
    }
   ],
   "source": [
    "plotting.plot_roi(gm_mask_resampled_img, mean_epi_img, display_mode='z', cut_coords=6, dim=-.45)"
   ]
  },
  {
   "cell_type": "code",
   "execution_count": null,
   "metadata": {
    "collapsed": false
   },
   "outputs": [],
   "source": [
    "plotting.plot_roi(gm_mask_resampled_img, mean_epi_img, display_mode='z', cut_coords=6, dim=-.45)"
   ]
  },
  {
   "cell_type": "code",
   "execution_count": null,
   "metadata": {
    "collapsed": true
   },
   "outputs": [],
   "source": [
    "masker = NiftiMasker(mask_strategy='epi')\n",
    "masker.fit(rest1_epi_img)\n",
    "epi_auto_mask = masker.mask_img_"
   ]
  },
  {
   "cell_type": "code",
   "execution_count": null,
   "metadata": {
    "collapsed": false
   },
   "outputs": [],
   "source": [
    "plotting.plot_roi(epi_auto_mask, mean_epi_img, display_mode='z', cut_coords=6, dim=-.45)"
   ]
  },
  {
   "cell_type": "code",
   "execution_count": null,
   "metadata": {
    "collapsed": false,
    "scrolled": false
   },
   "outputs": [],
   "source": [
    "plotting.plot_epi(mean_epi_img)"
   ]
  },
  {
   "cell_type": "code",
   "execution_count": null,
   "metadata": {
    "collapsed": false
   },
   "outputs": [],
   "source": [
    "std_epi_image = image.math_img(\"np.std(img1, axis=-1)\", img1=rest1_epi_resampled_img)"
   ]
  },
  {
   "cell_type": "code",
   "execution_count": null,
   "metadata": {
    "collapsed": false
   },
   "outputs": [],
   "source": [
    "plotting.plot_epi(std_epi_image, display_mode='y', cut_coords=5)"
   ]
  },
  {
   "cell_type": "code",
   "execution_count": null,
   "metadata": {
    "collapsed": false,
    "scrolled": false
   },
   "outputs": [],
   "source": [
    "plotting.plot_roi(epi_auto_mask, std_epi_image, title='EPI automatic mask', display_mode='y', cut_coords=5)"
   ]
  },
  {
   "cell_type": "code",
   "execution_count": null,
   "metadata": {
    "collapsed": false
   },
   "outputs": [],
   "source": [
    "std_nonzero_mask = image.math_img('np.greater(img1, 0).astype(int)', img1=std_epi_image)"
   ]
  },
  {
   "cell_type": "code",
   "execution_count": null,
   "metadata": {
    "collapsed": false
   },
   "outputs": [],
   "source": [
    "plotting.plot_roi(std_nonzero_mask, mean_epi_img, title='SD > 0 mask', display_mode='y', cut_coords=5)"
   ]
  },
  {
   "cell_type": "code",
   "execution_count": null,
   "metadata": {
    "collapsed": false,
    "scrolled": true
   },
   "outputs": [],
   "source": [
    "plotting.plot_roi(gm_mask_img, std_epi_image, title='EPI automatic mask', display_mode='y', cut_coords=5)"
   ]
  },
  {
   "cell_type": "code",
   "execution_count": null,
   "metadata": {
    "collapsed": false
   },
   "outputs": [],
   "source": [
    "gm_brain_mask_intersect_img = masking.intersect_masks([gm_mask_img, epi_auto_mask])"
   ]
  },
  {
   "cell_type": "code",
   "execution_count": null,
   "metadata": {
    "collapsed": false,
    "scrolled": true
   },
   "outputs": [],
   "source": [
    "plotting.plot_roi(gm_mask_union_img, mean_epi_img, title='EPI automatic mask')"
   ]
  },
  {
   "cell_type": "code",
   "execution_count": null,
   "metadata": {
    "collapsed": false,
    "scrolled": true
   },
   "outputs": [],
   "source": [
    "plotting.plot_roi(brain_mask_img, mean_img)"
   ]
  },
  {
   "cell_type": "code",
   "execution_count": null,
   "metadata": {
    "collapsed": false
   },
   "outputs": [],
   "source": [
    "epi_gm_masked = masking.apply_mask(rest1_epi_resampled_img, gm_mask_img)\n",
    "epi_brain_masked = masking.apply_mask(rest1_epi_resampled_img, brain_mask_img)\n",
    "epi_ni_masked = masking.apply_mask(rest1_epi_resampled_img, masker.mask_img_)\n",
    "epi_gmni_masked = masking.apply_mask(rest1_epi_resampled_img, gm_mask_union_img)"
   ]
  },
  {
   "cell_type": "code",
   "execution_count": null,
   "metadata": {
    "collapsed": false
   },
   "outputs": [],
   "source": [
    "np.std(epi_brain_masked, axis=0).min()"
   ]
  },
  {
   "cell_type": "code",
   "execution_count": null,
   "metadata": {
    "collapsed": false
   },
   "outputs": [],
   "source": [
    "np.std(epi_gm_masked, axis=0).min()"
   ]
  },
  {
   "cell_type": "code",
   "execution_count": null,
   "metadata": {
    "collapsed": false
   },
   "outputs": [],
   "source": [
    "np.std(epi_ni_masked, axis=0).min()"
   ]
  },
  {
   "cell_type": "code",
   "execution_count": null,
   "metadata": {
    "collapsed": false
   },
   "outputs": [],
   "source": [
    "np.std(epi_gmni_masked, axis=0).min()"
   ]
  },
  {
   "cell_type": "code",
   "execution_count": null,
   "metadata": {
    "collapsed": true
   },
   "outputs": [],
   "source": [
    "lags_4 = range(-4, 5)\n",
    "lags_6 = range(-6, 7)\n",
    "lags_8 = range(-8, 9)"
   ]
  },
  {
   "cell_type": "code",
   "execution_count": null,
   "metadata": {
    "collapsed": false,
    "scrolled": true
   },
   "outputs": [],
   "source": [
    "#frame_slider = interact(200)\n",
    "# decorate the plot function with an environment from the UIs:\n",
    "@interact(voxel_select=widgets.IntSlider(min=0, max=5000), lags=fixed(lags_6))\n",
    "def xcorr_viewer(voxel_select, lags):\n",
    "    # Calculate and plot cross-correlation for the selected voxel.\n",
    "    test_xcorr = sliding_xcorr(epi_brain_masked.T[voxel_select], np.mean(epi_gm_masked.T, axis=0), lags)\n",
    "    plt.plot(lags, test_xcorr)\n",
    "    # Calculate and report numerical maxima.\n",
    "    num_maxima_idx = np.argwhere(test_xcorr == np.max(test_xcorr)).flatten()\n",
    "    num_maxima_lags = list([lags[i] for i in num_maxima_idx])\n",
    "    print(\"Lag(s) at numerical maxima: \"+str(num_maxima_lags))\n",
    "    # Calculate and report relative maxima (peaks)\n",
    "    rel_maxima_idx = np.array(signal.argrelmax(np.array(test_xcorr))[0])\n",
    "    if len(rel_maxima_idx) >= 1:\n",
    "        rel_maxima_lags = [lags[i] for i in rel_maxima_idx]\n",
    "        print(\"Lag(s) at relative maxima (peaks): \"+str(rel_maxima_lags))\n",
    "        rel_maxima_vals = [test_xcorr[i] for i in rel_maxima_idx]\n",
    "        highest_peak_maxima_idx = np.argmax(rel_maxima_vals)\n",
    "        print(\"Lag at highest peak: \"+str(rel_maxima_lags[highest_peak_maxima_idx]))\n",
    "        highest_peak_xcorr_idx = rel_maxima_idx[highest_peak_maxima_idx]\n",
    "        lag_shift = np.sum(np.array(lags) > 0)\n",
    "        print(\"Vertex of parabolic fit to highest peak: \"+str(parabolic(test_xcorr, highest_peak_xcorr_idx)[0]-lag_shift))\n",
    "    else:\n",
    "        print(\"Relative maxima: None\")"
   ]
  },
  {
   "cell_type": "code",
   "execution_count": null,
   "metadata": {
    "collapsed": false
   },
   "outputs": [],
   "source": [
    "def gen_lag_map(epi_img, brain_mask_img, gm_mask_img, lags):\n",
    "    epi_gm_masked = masking.apply_mask()\n",
    "    signal_a = np.mean(epi_gm_masked, axis=0)\n",
    "    epi_brain_masked = epi_img[brain_mask_img]\n",
    "    lag_index_correction = np.sum(np.array(lags) > 0)\n",
    "    xcorr_array = []\n",
    "    for voxel in epi_brain_masked:\n",
    "    #for i, voxel in enumerate(epi_brain_masked):\n",
    "        #print(i)\n",
    "        signal_b = voxel\n",
    "        vox_xcorr = sliding_xcorr(signal_a, signal_b, lags)\n",
    "        xcorr_maxima = signal.argrelmax(np.array(vox_xcorr), order=1)[0]\n",
    "        if len(xcorr_maxima) == 0:\n",
    "            interp_max = np.argmax(vox_xcorr) - lag_index_correction\n",
    "        elif len(xcorr_maxima) == 1:\n",
    "            interp_max = parabolic(vox_xcorr, xcorr_maxima[0])[0]\n",
    "            interp_max = interp_max - lag_index_correction\n",
    "        elif len(xcorr_maxima) > 1:\n",
    "            xpeak = xcorr_maxima[np.argmax(vox_xcorr[xcorr_maxima])]\n",
    "            interp_max = parabolic(vox_xcorr, xpeak)[0]\n",
    "            interp_max = interp_max - lag_index_correction\n",
    "        xcorr_array.append(interp_max)\n",
    "    return(np.array(xcorr_array))"
   ]
  },
  {
   "cell_type": "code",
   "execution_count": null,
   "metadata": {
    "collapsed": true
   },
   "outputs": [],
   "source": [
    "numpy.seterr(all='warn')"
   ]
  },
  {
   "cell_type": "code",
   "execution_count": null,
   "metadata": {
    "collapsed": false
   },
   "outputs": [],
   "source": [
    "rest1_lag_map_data = gen_lag_map(rest1_epi_data_resampled, brain_mask_data, gm_mask_data, lags_4)"
   ]
  },
  {
   "cell_type": "code",
   "execution_count": null,
   "metadata": {
    "collapsed": true
   },
   "outputs": [],
   "source": [
    "rest1_lag_map_data = gen_lag_map(rest1_epi_data_resampled, epi_auto_mask.get_data().astype(bool), gm_mask_union_img.get_data().astype(bool), lags_4)"
   ]
  },
  {
   "cell_type": "code",
   "execution_count": null,
   "metadata": {
    "collapsed": true
   },
   "outputs": [],
   "source": [
    "rest1_lag_map_image = masking.unmask(rest1_lag_map_data, brain_mask_img)"
   ]
  },
  {
   "cell_type": "code",
   "execution_count": null,
   "metadata": {
    "collapsed": false
   },
   "outputs": [],
   "source": [
    "nib.save(rest1_lag_map_image, '/home/despo/dlurie/Projects/lag_maps/test_data/megarest/sub101/101_rest1_lag_map.nii.gz')"
   ]
  },
  {
   "cell_type": "code",
   "execution_count": null,
   "metadata": {
    "collapsed": true
   },
   "outputs": [],
   "source": [
    "rest1_lag_map_image_smoothed5 = image.smooth_img(rest1_lag_map_image, 5)"
   ]
  },
  {
   "cell_type": "code",
   "execution_count": null,
   "metadata": {
    "collapsed": true
   },
   "outputs": [],
   "source": [
    "nib.save(rest1_lag_map_image_smoothed5, '/home/despo/dlurie/Projects/lag_maps/test_data/megarest/sub101/101_rest1_lag_map_smoothed5.nii.gz')"
   ]
  },
  {
   "cell_type": "code",
   "execution_count": null,
   "metadata": {
    "collapsed": false
   },
   "outputs": [],
   "source": [
    "unmasked_data = np.zeros(brain_mask_data.shape, dtype=test_out.dtype)\n",
    "unmasked_data[brain_mask_data] = test_out"
   ]
  },
  {
   "cell_type": "code",
   "execution_count": null,
   "metadata": {
    "collapsed": true
   },
   "outputs": [],
   "source": [
    "a = np.ma.masked_where(unmasked_data == 0, unmasked_data)"
   ]
  },
  {
   "cell_type": "code",
   "execution_count": null,
   "metadata": {
    "collapsed": false
   },
   "outputs": [],
   "source": [
    "cwb = plt.cm.coolwarm\n",
    "cwb.set_bad(color='black')"
   ]
  },
  {
   "cell_type": "code",
   "execution_count": null,
   "metadata": {
    "collapsed": false,
    "scrolled": true
   },
   "outputs": [],
   "source": [
    "#slice_slider = IntSlider\n",
    "# decorate the plot function with an environment from the UIs:\n",
    "@interact(slice_select=widgets.IntSlider(min=0, max=37, step1=1, value=15))\n",
    "def slice_viewer(slice_select):\n",
    "    plt.imshow(a.T[slice_select,:,:], cmap=cwb, vmin=-4, vmax=4, interpolation='none')\n",
    "    plt.colorbar()"
   ]
  },
  {
   "cell_type": "code",
   "execution_count": null,
   "metadata": {
    "collapsed": false
   },
   "outputs": [],
   "source": [
    "range(101,115)+[116]+range(118,130)"
   ]
  },
  {
   "cell_type": "code",
   "execution_count": null,
   "metadata": {
    "collapsed": true
   },
   "outputs": [],
   "source": []
  }
 ],
 "metadata": {
  "kernelspec": {
   "display_name": "Python 2",
   "language": "python",
   "name": "python2"
  },
  "language_info": {
   "codemirror_mode": {
    "name": "ipython",
    "version": 2
   },
   "file_extension": ".py",
   "mimetype": "text/x-python",
   "name": "python",
   "nbconvert_exporter": "python",
   "pygments_lexer": "ipython2",
   "version": "2.7.11"
  }
 },
 "nbformat": 4,
 "nbformat_minor": 0
}
